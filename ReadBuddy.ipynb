{
  "nbformat": 4,
  "nbformat_minor": 0,
  "metadata": {
    "colab": {
      "provenance": [],
      "authorship_tag": "ABX9TyNft9C95tA3rCnAQIE/PazV",
      "include_colab_link": true
    },
    "kernelspec": {
      "name": "python3",
      "display_name": "Python 3"
    },
    "language_info": {
      "name": "python"
    }
  },
  "cells": [
    {
      "cell_type": "markdown",
      "metadata": {
        "id": "view-in-github",
        "colab_type": "text"
      },
      "source": [
        "<a href=\"https://colab.research.google.com/github/KelvinJais/ReadBuddy/blob/main/ReadBuddy.ipynb\" target=\"_parent\"><img src=\"https://colab.research.google.com/assets/colab-badge.svg\" alt=\"Open In Colab\"/></a>"
      ]
    },
    {
      "cell_type": "markdown",
      "source": [
        "# Read Buddy Main"
      ],
      "metadata": {
        "id": "nlPYlWKFUQIf"
      }
    },
    {
      "cell_type": "code",
      "source": [
        "# Set bok and page number\n",
        "book_path = \"/content/Neil Gaiman - American Gods frist 80 pages.pdf\"\n",
        "page_number=80"
      ],
      "metadata": {
        "id": "KZMn1sneTuEG"
      },
      "execution_count": null,
      "outputs": []
    },
    {
      "cell_type": "code",
      "source": [
        "%pip install --quiet --upgrade langchain-text-splitters langchain-community langgraph pypdf\n",
        "%pip install -qU \"langchain[openai]\""
      ],
      "metadata": {
        "id": "Y5UkZNWWY0aX"
      },
      "execution_count": null,
      "outputs": []
    },
    {
      "cell_type": "code",
      "source": [
        "from google.colab import userdata\n",
        "import getpass\n",
        "import os\n",
        "\n",
        "os.environ[\"LANGSMITH_TRACING\"] = \"true\"\n",
        "os.environ[\"LANGSMITH_API_KEY\"] = userdata.get('LANGSMITH_API')"
      ],
      "metadata": {
        "id": "972Rspi5Y4iB"
      },
      "execution_count": null,
      "outputs": []
    },
    {
      "cell_type": "code",
      "source": [
        "import getpass\n",
        "import os\n",
        "from google.colab import userdata\n",
        "if not os.environ.get(\"OPENAI_API_KEY\"):\n",
        "  os.environ[\"OPENAI_API_KEY\"] = userdata.get('OPENAI_API_KEY')\n",
        "\n",
        "from langchain.chat_models import init_chat_model\n",
        "\n",
        "llm = init_chat_model(\"gpt-4.1-nano\", model_provider=\"openai\")"
      ],
      "metadata": {
        "id": "VhZIEhhDYvtj"
      },
      "execution_count": null,
      "outputs": []
    },
    {
      "cell_type": "code",
      "source": [
        "import getpass\n",
        "import os\n",
        "\n",
        "if not os.environ.get(\"OPENAI_API_KEY\"):\n",
        "  os.environ[\"OPENAI_API_KEY\"] = userdata.get('OPENAI_API_KEY')\n",
        "\n",
        "from langchain_openai import OpenAIEmbeddings\n",
        "\n",
        "embeddings = OpenAIEmbeddings()"
      ],
      "metadata": {
        "id": "qDaRJVEYZhtU"
      },
      "execution_count": null,
      "outputs": []
    },
    {
      "cell_type": "code",
      "source": [
        "from langchain_core.vectorstores import InMemoryVectorStore\n",
        "from langchain_community.vectorstores import FAISS\n",
        "\n",
        "vector_store = InMemoryVectorStore(embeddings)"
      ],
      "metadata": {
        "id": "EAsJhz3tZojT"
      },
      "execution_count": null,
      "outputs": []
    },
    {
      "cell_type": "code",
      "source": [
        "import bs4\n",
        "from langchain import hub\n",
        "from langchain_community.document_loaders import WebBaseLoader\n",
        "from langchain_core.documents import Document\n",
        "from langchain_text_splitters import RecursiveCharacterTextSplitter\n",
        "from langgraph.graph import START, StateGraph\n",
        "from typing_extensions import List, TypedDict"
      ],
      "metadata": {
        "id": "OpX8CKsMZwZ1"
      },
      "execution_count": null,
      "outputs": []
    },
    {
      "cell_type": "code",
      "source": [
        "from langchain_community.document_loaders import PyPDFLoader\n",
        "loader = PyPDFLoader(book_path)\n",
        "docs = loader.load()"
      ],
      "metadata": {
        "id": "v76EaSYcTqkr"
      },
      "execution_count": null,
      "outputs": []
    },
    {
      "cell_type": "code",
      "source": [
        "text_splitter = RecursiveCharacterTextSplitter(chunk_size=1000, chunk_overlap=200)\n",
        "all_splits = text_splitter.split_documents(docs[:page_number])\n",
        "len(all_splits)"
      ],
      "metadata": {
        "id": "_77K_CzAaIt0"
      },
      "execution_count": null,
      "outputs": []
    },
    {
      "cell_type": "code",
      "source": [
        "prompt = hub.pull(\"rlm/rag-prompt\")\n",
        "messages = prompt.invoke({\"question\":\"hello\", \"context\": \"wasap\"})\n",
        "messages"
      ],
      "metadata": {
        "id": "IZYyCgcnV8RR"
      },
      "execution_count": null,
      "outputs": []
    },
    {
      "cell_type": "code",
      "source": [
        "messages"
      ],
      "metadata": {
        "id": "tP-aQCjZV_0H"
      },
      "execution_count": null,
      "outputs": []
    },
    {
      "cell_type": "code",
      "source": [
        "_ = vector_store.add_documents(documents=all_splits)"
      ],
      "metadata": {
        "id": "EAi8QC9d3lG3"
      },
      "execution_count": null,
      "outputs": []
    },
    {
      "cell_type": "code",
      "source": [
        "# Building Vector Search (Basic RAG)\n",
        "prompt = hub.pull(\"rlm/rag-prompt\")\n",
        "\n",
        "# State\n",
        "class State(TypedDict):\n",
        "    input: str\n",
        "    context: str\n",
        "    decision: str\n",
        "    output: str\n",
        "\n",
        "# Define application steps for Vector Search\n",
        "def retrieve(state: State):\n",
        "    retrieved_docs = vector_store.similarity_search(state[\"input\"])\n",
        "    return {\"context\": retrieved_docs}\n",
        "\n",
        "\n",
        "def generate(state: State):\n",
        "    docs_content = \"\\n\\n\".join(doc.page_content for doc in state[\"context\"])\n",
        "    messages = prompt.invoke({\"question\": state[\"input\"], \"context\": docs_content})\n",
        "    response = llm.invoke(messages)\n",
        "    return {\"output\": response.content}"
      ],
      "metadata": {
        "id": "FZk8y8AjrLQu"
      },
      "execution_count": null,
      "outputs": []
    },
    {
      "cell_type": "code",
      "source": [
        "from typing_extensions import Literal\n",
        "from langchain_core.messages import HumanMessage, SystemMessage\n",
        "from langgraph.graph import StateGraph, START, END\n",
        "from pydantic import BaseModel, Field\n",
        "from IPython.display import Image, display\n",
        "\n",
        "# Schema for structured output to use as routing logic\n",
        "class Route(BaseModel):\n",
        "    step: Literal[\"vector\", \"db\"] = Field(\n",
        "        None, description=\"The next step in the routing process\"\n",
        "    )\n",
        "\n",
        "\n",
        "# Augment the LLM with schema for structured output\n",
        "router = llm.with_structured_output(Route)\n",
        "\n",
        "\n",
        "def DB(state: State):\n",
        "    \"\"\"Get Pages from Database\"\"\"\n",
        "    return {\"output\": \"DB state\"}\n",
        "\n",
        "\n",
        "def llm_call_router(state: State):\n",
        "    \"\"\"Route the input to the appropriate node\"\"\"\n",
        "\n",
        "    # Run the augmented LLM with structured output to serve as routing logic\n",
        "    decision = router.invoke(\n",
        "        [\n",
        "            SystemMessage(\n",
        "                content=\"Route the input to vector search or db search. If the input question is asking about a certain character or a plot question route them to vector. If the input question asks about a summary of the last few pages then route them to db search\"\n",
        "            ),\n",
        "            HumanMessage(content=state[\"input\"]),\n",
        "        ]\n",
        "    )\n",
        "\n",
        "    return {\"decision\": decision.step}\n",
        "\n",
        "\n",
        "# Conditional edge function to route to the appropriate node\n",
        "def route_decision(state: State):\n",
        "    # Return the node name you want to visit next\n",
        "    if state[\"decision\"] == \"vector\":\n",
        "        return \"Vector\"\n",
        "    elif state[\"decision\"] == \"db\":\n",
        "        return \"Database\"\n",
        "\n",
        "\n",
        "\n",
        "# Build workflow\n",
        "router_builder = StateGraph(State)\n",
        "\n",
        "# Add nodes\n",
        "\n",
        "router_builder.add_node(\"DB\", DB)\n",
        "router_builder.add_node(\"llm_call_router\", llm_call_router)\n",
        "router_builder.add_node(\"Vector retrieval\", retrieve)\n",
        "router_builder.add_node(\"Vector generator\", generate)\n",
        "\n",
        "# Add edges to connect nodes\n",
        "router_builder.add_edge(START, \"llm_call_router\")\n",
        "router_builder.add_conditional_edges(\n",
        "    \"llm_call_router\",\n",
        "    route_decision,\n",
        "    {  # Name returned by route_decision : Name of next node to visit\n",
        "        \"Vector\": \"Vector retrieval\",\n",
        "        \"Database\": \"DB\",\n",
        "    },\n",
        ")\n",
        "#Vector edges\n",
        "router_builder.add_edge(\"Vector retrieval\",\"Vector generator\" )\n",
        "router_builder.add_edge(\"Vector generator\", END)\n",
        "\n",
        "#DB edges\n",
        "router_builder.add_edge(\"DB\", END)\n",
        "\n",
        "# Compile workflow\n",
        "router_workflow = router_builder.compile()\n",
        "\n",
        "# Show the workflow\n",
        "display(Image(router_workflow.get_graph().draw_mermaid_png()))\n"
      ],
      "metadata": {
        "id": "lsJmPYZNnpW-"
      },
      "execution_count": null,
      "outputs": []
    },
    {
      "cell_type": "code",
      "source": [
        "router_without_db=StateGraph(State)\n",
        "router_without_db.add_node(\"Vector retrieval\", retrieve)\n",
        "router_without_db.add_node(\"Vector generator\", generate)\n",
        "\n",
        "router_without_db.add_edge(START, \"Vector retrieval\")\n",
        "router_without_db.add_edge(\"Vector retrieval\",\"Vector generator\" )\n",
        "router_without_db.add_edge(\"Vector generator\", END)\n",
        "\n",
        "router_without_db_workflow = router_without_db.compile()\n",
        "display(Image(router_without_db_workflow.get_graph().draw_mermaid_png()))"
      ],
      "metadata": {
        "id": "iKNMDkPcvPW2"
      },
      "execution_count": null,
      "outputs": []
    },
    {
      "cell_type": "code",
      "source": [
        "def ReadBuddy(inputs: dict):\n",
        "  state = router_without_db_workflow.invoke({\"input\": inputs[\"question\"]})\n",
        "  return state[\"output\"]\n",
        "  return {\"answer\": state[\"output\"]}"
      ],
      "metadata": {
        "id": "m5GTBqdDsiit"
      },
      "execution_count": null,
      "outputs": []
    },
    {
      "cell_type": "code",
      "source": [
        "state = router_without_db_workflow.invoke({\"input\": \"What unusual dream does Shadow have on the plane?\"})\n",
        "print(state[\"output\"])"
      ],
      "metadata": {
        "id": "PZS6yP8ofvz5"
      },
      "execution_count": null,
      "outputs": []
    },
    {
      "cell_type": "code",
      "source": [
        "ReadBuddy({\"question\": \"What unusual dream does Shadow have on the plane?\"})"
      ],
      "metadata": {
        "id": "oZMJ_6fitGWX"
      },
      "execution_count": null,
      "outputs": []
    },
    {
      "cell_type": "code",
      "source": [
        "import pandas as pd\n",
        "\n",
        "# Define the question and answer pairs as lists\n",
        "inputs = [\n",
        "    \"What crime was Shadow convicted of, and how long did he serve in prison?\",\n",
        "    \"How did Shadow cope with his time in prison?\",\n",
        "    \"What were the three things Shadow planned to do after getting out of prison?\",\n",
        "    \"Who is Laura, and what was her relationship with Shadow?\",\n",
        "    \"How did Shadow meet Laura?\",\n",
        "    \"Who was Robbie, and what was his connection to Shadow?\",\n",
        "    \"What happened to Laura and Robbie?\",\n",
        "    \"What did Shadow learn about Laura and Robbie’s relationship after their deaths?\",\n",
        "    \"Why was Shadow released from prison early?\",\n",
        "    \"Who is Mr. Wednesday, and how does he approach Shadow?\",\n",
        "    \"What unusual dream does Shadow have on the plane?\",\n",
        "    \"What is the significance of the coin Shadow receives from Mad Sweeney?\",\n",
        "    \"What does the recurring theme of storms symbolize in the early part of the book?\",\n",
        "    \"What does Shadow’s attitude toward belief and superstition reveal about his character?\",\n",
        "    \"Who is Mad Sweeney, and what role does he play when Shadow meets him?\",\n",
        "    \"What is the subplot involving Bilquis in Los Angeles?\",\n",
        "    \"What happens during Shadow’s encounter with the mysterious young man in the limo?\",\n",
        "    \"How does Shadow react to learning about Laura’s betrayal?\",\n",
        "    \"What does Shadow do at Laura’s grave?\"\n",
        "]\n",
        "\n",
        "outputs = [\n",
        "    \"Shadow was convicted of aggravated assault and battery. He was sentenced to six years but served three years in prison before being released early due to his wife's death.\",\n",
        "    \"Shadow kept himself in shape, taught himself coin tricks, and tried to keep a low profile. He also read books, including Herodotus's Histories, and avoided unnecessary trouble.\",\n",
        "    \"Shadow planned to take a long bath, spend time with his wife Laura, and keep his head down to stay out of trouble for the rest of his life.\",\n",
        "    \"Laura was Shadow's wife. They had a close relationship, and Shadow thought about her often while in prison. She worked as a travel agent.\",\n",
        "    \"Shadow met Laura on a blind date arranged by mutual friends-his best buddy's wife's best friend.\",\n",
        "    \"Robbie was Shadow's best friend and owner of the Muscle Farm gym, where Shadow used to work. Robbie promised Shadow a job upon his release from prison.\",\n",
        "    \"Laura and Robbie died together in a car accident just before Shadow was released from prison.\",\n",
        "    \"Shadow learned from Audrey Burton, Robbie’s wife, that Laura and Robbie were having an affair. Laura died with Robbie during the accident, and Audrey told Shadow that Laura died with Robbie’s 'cock in her mouth'.\",\n",
        "    \"Shadow was released early because his wife, Laura, died in a car accident.\",\n",
        "    \"Mr. Wednesday is a mysterious man who meets Shadow on a plane and offers him a job as his bodyguard and errand boy. He seems to know a lot about Shadow and insists that Shadow has nothing left to return to.\",\n",
        "    \"Shadow dreams of a buffalo-headed man who tells him, 'If you are to survive, you must believe,' and urges him to 'believe everything'.\",\n",
        "    \"Mad Sweeney, who claims to be a leprechaun, gives Shadow a gold coin after a bar fight. Shadow later throws this coin into Laura’s grave during her burial.\",\n",
        "    \"The storms foreshadow major changes and turmoil in Shadow’s life, as well as larger conflicts to come. Characters like Sam Fetisher warn Shadow about a 'big storm coming,' both literally and metaphorically.\",\n",
        "    \"Shadow claims not to be superstitious and only believes in what he can see, yet he is repeatedly confronted with strange and supernatural events that challenge his skepticism.\",\n",
        "    \"Mad Sweeney is a tall, bearded man who claims to be a leprechaun. He demonstrates coin tricks, fights Shadow in a bar, and gives him a gold coin.\",\n",
        "    \"Bilquis is a goddess working as a prostitute. She consumes a client during sex after he worships her, demonstrating her supernatural powers and the theme of old gods surviving in modern America.\",\n",
        "    \"Shadow is abducted and threatened by a fat young man in a limo, who warns him that Wednesday is 'history' and that new gods-representing modern concepts like technology-are taking over.\",\n",
        "    \"Shadow is hurt but remains stoic. He refuses to let his pain turn into hatred for Laura, even after learning of her affair with Robbie.\",\n",
        "    \"Shadow throws the gold coin from Mad Sweeney into Laura’s grave and says goodbye, expressing sorrow and closure.\"\n",
        "]\n",
        "\n"
      ],
      "metadata": {
        "id": "bMLONmSpgBSV"
      },
      "execution_count": null,
      "outputs": []
    },
    {
      "cell_type": "code",
      "source": [
        "from langsmith.evaluation import evaluate, LangChainStringEvaluator\n",
        "\n",
        "# Evaluators\n",
        "qa_evalulator = [LangChainStringEvaluator(\"cot_qa\")]\n",
        "dataset_name = \"DBRX\"\n",
        "\n",
        "experiment_results = evaluate(\n",
        "    ReadBuddy,\n",
        "    data=dataset_name,\n",
        "    evaluators=qa_evalulator,\n",
        "    experiment_prefix=\"test-dbrx-qa-oai\",\n",
        "    # Any experiment metadata can be specified here\n",
        "    metadata={\n",
        "        \"variant\": \"ReadBuddy evaluation\",\n",
        "    },\n",
        ")\n"
      ],
      "metadata": {
        "id": "XoxysEtKqUx_"
      },
      "execution_count": null,
      "outputs": []
    },
    {
      "cell_type": "code",
      "source": [],
      "metadata": {
        "id": "JFhnlcXRtbVN"
      },
      "execution_count": null,
      "outputs": []
    }
  ]
}
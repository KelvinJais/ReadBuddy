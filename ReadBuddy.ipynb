{
  "nbformat": 4,
  "nbformat_minor": 0,
  "metadata": {
    "colab": {
      "provenance": [],
      "authorship_tag": "ABX9TyM19pOU9XTIUmQ+e+D7h0v9",
      "include_colab_link": true
    },
    "kernelspec": {
      "name": "python3",
      "display_name": "Python 3"
    },
    "language_info": {
      "name": "python"
    },
    "widgets": {
      "application/vnd.jupyter.widget-state+json": {
        "8f9492f3641e4ef682153e6b059b15e8": {
          "model_module": "@jupyter-widgets/controls",
          "model_name": "HBoxModel",
          "model_module_version": "1.5.0",
          "state": {
            "_dom_classes": [],
            "_model_module": "@jupyter-widgets/controls",
            "_model_module_version": "1.5.0",
            "_model_name": "HBoxModel",
            "_view_count": null,
            "_view_module": "@jupyter-widgets/controls",
            "_view_module_version": "1.5.0",
            "_view_name": "HBoxView",
            "box_style": "",
            "children": [
              "IPY_MODEL_a9433a66794b420d836c02d245b6d8f0",
              "IPY_MODEL_07270fc051d04fd1a5f85c538853b44c",
              "IPY_MODEL_7090846dbcda439ba8d79e3987bd8531"
            ],
            "layout": "IPY_MODEL_e8eb5c547d1c463f8d53f87497448a17"
          }
        },
        "a9433a66794b420d836c02d245b6d8f0": {
          "model_module": "@jupyter-widgets/controls",
          "model_name": "HTMLModel",
          "model_module_version": "1.5.0",
          "state": {
            "_dom_classes": [],
            "_model_module": "@jupyter-widgets/controls",
            "_model_module_version": "1.5.0",
            "_model_name": "HTMLModel",
            "_view_count": null,
            "_view_module": "@jupyter-widgets/controls",
            "_view_module_version": "1.5.0",
            "_view_name": "HTMLView",
            "description": "",
            "description_tooltip": null,
            "layout": "IPY_MODEL_6b90e4771bee48379d19a5b063a95b22",
            "placeholder": "​",
            "style": "IPY_MODEL_b379d16fde674eebb4460bc9363ceec8",
            "value": ""
          }
        },
        "07270fc051d04fd1a5f85c538853b44c": {
          "model_module": "@jupyter-widgets/controls",
          "model_name": "FloatProgressModel",
          "model_module_version": "1.5.0",
          "state": {
            "_dom_classes": [],
            "_model_module": "@jupyter-widgets/controls",
            "_model_module_version": "1.5.0",
            "_model_name": "FloatProgressModel",
            "_view_count": null,
            "_view_module": "@jupyter-widgets/controls",
            "_view_module_version": "1.5.0",
            "_view_name": "ProgressView",
            "bar_style": "success",
            "description": "",
            "description_tooltip": null,
            "layout": "IPY_MODEL_6ce31a6d8515478f86ed903ea2868615",
            "max": 1,
            "min": 0,
            "orientation": "horizontal",
            "style": "IPY_MODEL_4f72ceb903104f98ab877f67ac325283",
            "value": 1
          }
        },
        "7090846dbcda439ba8d79e3987bd8531": {
          "model_module": "@jupyter-widgets/controls",
          "model_name": "HTMLModel",
          "model_module_version": "1.5.0",
          "state": {
            "_dom_classes": [],
            "_model_module": "@jupyter-widgets/controls",
            "_model_module_version": "1.5.0",
            "_model_name": "HTMLModel",
            "_view_count": null,
            "_view_module": "@jupyter-widgets/controls",
            "_view_module_version": "1.5.0",
            "_view_name": "HTMLView",
            "description": "",
            "description_tooltip": null,
            "layout": "IPY_MODEL_ec026d32db60490aa21e6b45bfebdb1b",
            "placeholder": "​",
            "style": "IPY_MODEL_d35012a224444bc488c05b8b8a5f060a",
            "value": " 19/? [01:25&lt;00:00,  4.31s/it]"
          }
        },
        "e8eb5c547d1c463f8d53f87497448a17": {
          "model_module": "@jupyter-widgets/base",
          "model_name": "LayoutModel",
          "model_module_version": "1.2.0",
          "state": {
            "_model_module": "@jupyter-widgets/base",
            "_model_module_version": "1.2.0",
            "_model_name": "LayoutModel",
            "_view_count": null,
            "_view_module": "@jupyter-widgets/base",
            "_view_module_version": "1.2.0",
            "_view_name": "LayoutView",
            "align_content": null,
            "align_items": null,
            "align_self": null,
            "border": null,
            "bottom": null,
            "display": null,
            "flex": null,
            "flex_flow": null,
            "grid_area": null,
            "grid_auto_columns": null,
            "grid_auto_flow": null,
            "grid_auto_rows": null,
            "grid_column": null,
            "grid_gap": null,
            "grid_row": null,
            "grid_template_areas": null,
            "grid_template_columns": null,
            "grid_template_rows": null,
            "height": null,
            "justify_content": null,
            "justify_items": null,
            "left": null,
            "margin": null,
            "max_height": null,
            "max_width": null,
            "min_height": null,
            "min_width": null,
            "object_fit": null,
            "object_position": null,
            "order": null,
            "overflow": null,
            "overflow_x": null,
            "overflow_y": null,
            "padding": null,
            "right": null,
            "top": null,
            "visibility": null,
            "width": null
          }
        },
        "6b90e4771bee48379d19a5b063a95b22": {
          "model_module": "@jupyter-widgets/base",
          "model_name": "LayoutModel",
          "model_module_version": "1.2.0",
          "state": {
            "_model_module": "@jupyter-widgets/base",
            "_model_module_version": "1.2.0",
            "_model_name": "LayoutModel",
            "_view_count": null,
            "_view_module": "@jupyter-widgets/base",
            "_view_module_version": "1.2.0",
            "_view_name": "LayoutView",
            "align_content": null,
            "align_items": null,
            "align_self": null,
            "border": null,
            "bottom": null,
            "display": null,
            "flex": null,
            "flex_flow": null,
            "grid_area": null,
            "grid_auto_columns": null,
            "grid_auto_flow": null,
            "grid_auto_rows": null,
            "grid_column": null,
            "grid_gap": null,
            "grid_row": null,
            "grid_template_areas": null,
            "grid_template_columns": null,
            "grid_template_rows": null,
            "height": null,
            "justify_content": null,
            "justify_items": null,
            "left": null,
            "margin": null,
            "max_height": null,
            "max_width": null,
            "min_height": null,
            "min_width": null,
            "object_fit": null,
            "object_position": null,
            "order": null,
            "overflow": null,
            "overflow_x": null,
            "overflow_y": null,
            "padding": null,
            "right": null,
            "top": null,
            "visibility": null,
            "width": null
          }
        },
        "b379d16fde674eebb4460bc9363ceec8": {
          "model_module": "@jupyter-widgets/controls",
          "model_name": "DescriptionStyleModel",
          "model_module_version": "1.5.0",
          "state": {
            "_model_module": "@jupyter-widgets/controls",
            "_model_module_version": "1.5.0",
            "_model_name": "DescriptionStyleModel",
            "_view_count": null,
            "_view_module": "@jupyter-widgets/base",
            "_view_module_version": "1.2.0",
            "_view_name": "StyleView",
            "description_width": ""
          }
        },
        "6ce31a6d8515478f86ed903ea2868615": {
          "model_module": "@jupyter-widgets/base",
          "model_name": "LayoutModel",
          "model_module_version": "1.2.0",
          "state": {
            "_model_module": "@jupyter-widgets/base",
            "_model_module_version": "1.2.0",
            "_model_name": "LayoutModel",
            "_view_count": null,
            "_view_module": "@jupyter-widgets/base",
            "_view_module_version": "1.2.0",
            "_view_name": "LayoutView",
            "align_content": null,
            "align_items": null,
            "align_self": null,
            "border": null,
            "bottom": null,
            "display": null,
            "flex": null,
            "flex_flow": null,
            "grid_area": null,
            "grid_auto_columns": null,
            "grid_auto_flow": null,
            "grid_auto_rows": null,
            "grid_column": null,
            "grid_gap": null,
            "grid_row": null,
            "grid_template_areas": null,
            "grid_template_columns": null,
            "grid_template_rows": null,
            "height": null,
            "justify_content": null,
            "justify_items": null,
            "left": null,
            "margin": null,
            "max_height": null,
            "max_width": null,
            "min_height": null,
            "min_width": null,
            "object_fit": null,
            "object_position": null,
            "order": null,
            "overflow": null,
            "overflow_x": null,
            "overflow_y": null,
            "padding": null,
            "right": null,
            "top": null,
            "visibility": null,
            "width": "20px"
          }
        },
        "4f72ceb903104f98ab877f67ac325283": {
          "model_module": "@jupyter-widgets/controls",
          "model_name": "ProgressStyleModel",
          "model_module_version": "1.5.0",
          "state": {
            "_model_module": "@jupyter-widgets/controls",
            "_model_module_version": "1.5.0",
            "_model_name": "ProgressStyleModel",
            "_view_count": null,
            "_view_module": "@jupyter-widgets/base",
            "_view_module_version": "1.2.0",
            "_view_name": "StyleView",
            "bar_color": null,
            "description_width": ""
          }
        },
        "ec026d32db60490aa21e6b45bfebdb1b": {
          "model_module": "@jupyter-widgets/base",
          "model_name": "LayoutModel",
          "model_module_version": "1.2.0",
          "state": {
            "_model_module": "@jupyter-widgets/base",
            "_model_module_version": "1.2.0",
            "_model_name": "LayoutModel",
            "_view_count": null,
            "_view_module": "@jupyter-widgets/base",
            "_view_module_version": "1.2.0",
            "_view_name": "LayoutView",
            "align_content": null,
            "align_items": null,
            "align_self": null,
            "border": null,
            "bottom": null,
            "display": null,
            "flex": null,
            "flex_flow": null,
            "grid_area": null,
            "grid_auto_columns": null,
            "grid_auto_flow": null,
            "grid_auto_rows": null,
            "grid_column": null,
            "grid_gap": null,
            "grid_row": null,
            "grid_template_areas": null,
            "grid_template_columns": null,
            "grid_template_rows": null,
            "height": null,
            "justify_content": null,
            "justify_items": null,
            "left": null,
            "margin": null,
            "max_height": null,
            "max_width": null,
            "min_height": null,
            "min_width": null,
            "object_fit": null,
            "object_position": null,
            "order": null,
            "overflow": null,
            "overflow_x": null,
            "overflow_y": null,
            "padding": null,
            "right": null,
            "top": null,
            "visibility": null,
            "width": null
          }
        },
        "d35012a224444bc488c05b8b8a5f060a": {
          "model_module": "@jupyter-widgets/controls",
          "model_name": "DescriptionStyleModel",
          "model_module_version": "1.5.0",
          "state": {
            "_model_module": "@jupyter-widgets/controls",
            "_model_module_version": "1.5.0",
            "_model_name": "DescriptionStyleModel",
            "_view_count": null,
            "_view_module": "@jupyter-widgets/base",
            "_view_module_version": "1.2.0",
            "_view_name": "StyleView",
            "description_width": ""
          }
        }
      }
    }
  },
  "cells": [
    {
      "cell_type": "markdown",
      "metadata": {
        "id": "view-in-github",
        "colab_type": "text"
      },
      "source": [
        "<a href=\"https://colab.research.google.com/github/KelvinJais/ReadBuddy/blob/main/ReadBuddy.ipynb\" target=\"_parent\"><img src=\"https://colab.research.google.com/assets/colab-badge.svg\" alt=\"Open In Colab\"/></a>"
      ]
    },
    {
      "cell_type": "markdown",
      "source": [
        "# Read Buddy Main"
      ],
      "metadata": {
        "id": "nlPYlWKFUQIf"
      }
    },
    {
      "cell_type": "code",
      "source": [
        "# Set bok and page number\n",
        "book_path = \"/content/Neil Gaiman - American Gods.pdf\"\n",
        "page_number=80"
      ],
      "metadata": {
        "id": "KZMn1sneTuEG"
      },
      "execution_count": 21,
      "outputs": []
    },
    {
      "cell_type": "code",
      "source": [
        "%pip install --quiet --upgrade langchain-text-splitters langchain-community langgraph pypdf\n",
        "%pip install -qU \"langchain[openai]\""
      ],
      "metadata": {
        "id": "Y5UkZNWWY0aX"
      },
      "execution_count": 22,
      "outputs": []
    },
    {
      "cell_type": "code",
      "source": [
        "from google.colab import userdata\n",
        "import getpass\n",
        "import os\n",
        "\n",
        "os.environ[\"LANGSMITH_TRACING\"] = \"true\"\n",
        "os.environ[\"LANGSMITH_API_KEY\"] = userdata.get('LANGSMITH_API')"
      ],
      "metadata": {
        "id": "972Rspi5Y4iB"
      },
      "execution_count": 23,
      "outputs": []
    },
    {
      "cell_type": "code",
      "source": [
        "import getpass\n",
        "import os\n",
        "from google.colab import userdata\n",
        "if not os.environ.get(\"OPENAI_API_KEY\"):\n",
        "  os.environ[\"OPENAI_API_KEY\"] = userdata.get('OPENAI_API_KEY')\n",
        "\n",
        "from langchain.chat_models import init_chat_model\n",
        "\n",
        "llm = init_chat_model(\"gpt-4.1-nano\", model_provider=\"openai\")"
      ],
      "metadata": {
        "id": "VhZIEhhDYvtj"
      },
      "execution_count": 24,
      "outputs": []
    },
    {
      "cell_type": "code",
      "source": [
        "import getpass\n",
        "import os\n",
        "\n",
        "if not os.environ.get(\"OPENAI_API_KEY\"):\n",
        "  os.environ[\"OPENAI_API_KEY\"] = userdata.get('OPENAI_API_KEY')\n",
        "\n",
        "from langchain_openai import OpenAIEmbeddings\n",
        "\n",
        "embeddings = OpenAIEmbeddings()"
      ],
      "metadata": {
        "id": "qDaRJVEYZhtU"
      },
      "execution_count": 25,
      "outputs": []
    },
    {
      "cell_type": "code",
      "source": [
        "from langchain_core.vectorstores import InMemoryVectorStore\n",
        "from langchain_community.vectorstores import FAISS\n",
        "\n",
        "vector_store = InMemoryVectorStore(embeddings)"
      ],
      "metadata": {
        "id": "EAsJhz3tZojT"
      },
      "execution_count": 26,
      "outputs": []
    },
    {
      "cell_type": "code",
      "source": [
        "import bs4\n",
        "from langchain import hub\n",
        "from langchain_community.document_loaders import WebBaseLoader\n",
        "from langchain_core.documents import Document\n",
        "from langchain_text_splitters import RecursiveCharacterTextSplitter\n",
        "from langgraph.graph import START, StateGraph\n",
        "from typing_extensions import List, TypedDict"
      ],
      "metadata": {
        "id": "OpX8CKsMZwZ1"
      },
      "execution_count": 27,
      "outputs": []
    },
    {
      "cell_type": "code",
      "source": [
        "from langchain_community.document_loaders import PyPDFLoader\n",
        "loader = PyPDFLoader(book_path)\n",
        "docs = loader.load()"
      ],
      "metadata": {
        "id": "v76EaSYcTqkr"
      },
      "execution_count": 28,
      "outputs": []
    },
    {
      "cell_type": "code",
      "source": [
        "text_splitter = RecursiveCharacterTextSplitter(chunk_size=1000, chunk_overlap=200)\n",
        "all_splits = text_splitter.split_documents(docs[:page_number])\n",
        "len(all_splits)"
      ],
      "metadata": {
        "id": "_77K_CzAaIt0",
        "colab": {
          "base_uri": "https://localhost:8080/"
        },
        "outputId": "31b1bab7-3f5c-48dc-c44e-28c2d4bb2237"
      },
      "execution_count": 29,
      "outputs": [
        {
          "output_type": "execute_result",
          "data": {
            "text/plain": [
              "151"
            ]
          },
          "metadata": {},
          "execution_count": 29
        }
      ]
    },
    {
      "cell_type": "code",
      "source": [
        "_ = vector_store.add_documents(documents=all_splits)"
      ],
      "metadata": {
        "id": "EAi8QC9d3lG3"
      },
      "execution_count": 30,
      "outputs": []
    },
    {
      "cell_type": "code",
      "source": [
        "# Building Vector Search (Basic RAG)\n",
        "prompt = hub.pull(\"rlm/rag-prompt\")\n",
        "\n",
        "# State\n",
        "class State(TypedDict):\n",
        "    input: str\n",
        "    context: str\n",
        "    decision: str\n",
        "    output: str\n",
        "\n",
        "# Define application steps for Vector Search\n",
        "def retrieve(state: State):\n",
        "    retrieved_docs = vector_store.similarity_search(state[\"input\"])\n",
        "    return {\"context\": retrieved_docs}\n",
        "\n",
        "\n",
        "def generate(state: State):\n",
        "    docs_content = \"\\n\\n\".join(doc.page_content for doc in state[\"context\"])\n",
        "    messages = prompt.invoke({\"question\": state[\"input\"], \"context\": docs_content})\n",
        "    response = llm.invoke(messages)\n",
        "    return {\"output\": response.content}"
      ],
      "metadata": {
        "id": "FZk8y8AjrLQu"
      },
      "execution_count": 31,
      "outputs": []
    },
    {
      "cell_type": "code",
      "source": [
        "from typing_extensions import Literal\n",
        "from langchain_core.messages import HumanMessage, SystemMessage\n",
        "from langgraph.graph import StateGraph, START, END\n",
        "from pydantic import BaseModel, Field\n",
        "from IPython.display import Image, display\n",
        "\n",
        "# Schema for structured output to use as routing logic\n",
        "class Route(BaseModel):\n",
        "    step: Literal[\"vector\", \"db\"] = Field(\n",
        "        None, description=\"The next step in the routing process\"\n",
        "    )\n",
        "\n",
        "\n",
        "# Augment the LLM with schema for structured output\n",
        "router = llm.with_structured_output(Route)\n",
        "\n",
        "\n",
        "def DB(state: State):\n",
        "    \"\"\"Get Pages from Database\"\"\"\n",
        "    return {\"output\": \"DB state\"}\n",
        "\n",
        "\n",
        "def llm_call_router(state: State):\n",
        "    \"\"\"Route the input to the appropriate node\"\"\"\n",
        "\n",
        "    # Run the augmented LLM with structured output to serve as routing logic\n",
        "    decision = router.invoke(\n",
        "        [\n",
        "            SystemMessage(\n",
        "                content=\"Route the input to vector search or db search. If the input question is asking about a certain character or a plot question route them to vector. If the input question asks about a summary of the last few pages then route them to db search\"\n",
        "            ),\n",
        "            HumanMessage(content=state[\"input\"]),\n",
        "        ]\n",
        "    )\n",
        "\n",
        "    return {\"decision\": decision.step}\n",
        "\n",
        "\n",
        "# Conditional edge function to route to the appropriate node\n",
        "def route_decision(state: State):\n",
        "    # Return the node name you want to visit next\n",
        "    if state[\"decision\"] == \"vector\":\n",
        "        return \"Vector\"\n",
        "    elif state[\"decision\"] == \"db\":\n",
        "        return \"Database\"\n",
        "\n",
        "\n",
        "\n",
        "# Build workflow\n",
        "router_builder = StateGraph(State)\n",
        "\n",
        "# Add nodes\n",
        "\n",
        "router_builder.add_node(\"DB\", DB)\n",
        "router_builder.add_node(\"llm_call_router\", llm_call_router)\n",
        "router_builder.add_node(\"Vector retrieval\", retrieve)\n",
        "router_builder.add_node(\"Vector generator\", generate)\n",
        "\n",
        "# Add edges to connect nodes\n",
        "router_builder.add_edge(START, \"llm_call_router\")\n",
        "router_builder.add_conditional_edges(\n",
        "    \"llm_call_router\",\n",
        "    route_decision,\n",
        "    {  # Name returned by route_decision : Name of next node to visit\n",
        "        \"Vector\": \"Vector retrieval\",\n",
        "        \"Database\": \"DB\",\n",
        "    },\n",
        ")\n",
        "#Vector edges\n",
        "router_builder.add_edge(\"Vector retrieval\",\"Vector generator\" )\n",
        "router_builder.add_edge(\"Vector generator\", END)\n",
        "\n",
        "#DB edges\n",
        "router_builder.add_edge(\"DB\", END)\n",
        "\n",
        "# Compile workflow\n",
        "router_workflow = router_builder.compile()\n",
        "\n",
        "# Show the workflow\n",
        "display(Image(router_workflow.get_graph().draw_mermaid_png()))\n"
      ],
      "metadata": {
        "colab": {
          "base_uri": "https://localhost:8080/",
          "height": 473
        },
        "id": "lsJmPYZNnpW-",
        "outputId": "f491ff45-6252-490d-d234-78c0123a1651"
      },
      "execution_count": 32,
      "outputs": [
        {
          "output_type": "display_data",
          "data": {
            "image/png": "[encoded data removed]",
            "text/plain": [
              "<IPython.core.display.Image object>"
            ]
          },
          "metadata": {}
        }
      ]
    },
    {
      "cell_type": "code",
      "source": [
        "router_without_db=StateGraph(State)\n",
        "router_without_db.add_node(\"Vector retrieval\", retrieve)\n",
        "router_without_db.add_node(\"Vector generator\", generate)\n",
        "\n",
        "router_without_db.add_edge(START, \"Vector retrieval\")\n",
        "router_without_db.add_edge(\"Vector retrieval\",\"Vector generator\" )\n",
        "router_without_db.add_edge(\"Vector generator\", END)\n",
        "\n",
        "router_without_db_workflow = router_without_db.compile()\n",
        "display(Image(router_without_db_workflow.get_graph().draw_mermaid_png()))"
      ],
      "metadata": {
        "colab": {
          "base_uri": "https://localhost:8080/",
          "height": 350
        },
        "id": "iKNMDkPcvPW2",
        "outputId": "75c28df7-ef37-4fb7-e452-65450245ba7f"
      },
      "execution_count": 55,
      "outputs": [
        {
          "output_type": "display_data",
          "data": {
            "image/png": "[encoded data removed]",
            "text/plain": [
              "<IPython.core.display.Image object>"
            ]
          },
          "metadata": {}
        }
      ]
    },
    {
      "cell_type": "code",
      "source": [
        "def ReadBuddy(inputs: dict):\n",
        "  state = router_without_db_workflow.invoke({\"input\": inputs[\"question\"]})\n",
        "  return state[\"output\"]\n",
        "  return {\"answer\": state[\"output\"]}"
      ],
      "metadata": {
        "id": "m5GTBqdDsiit"
      },
      "execution_count": 56,
      "outputs": []
    },
    {
      "cell_type": "code",
      "source": [
        "state = router_without_db_workflow.invoke({\"input\": \"What unusual dream does Shadow have on the plane?\"})\n",
        "print(state[\"output\"])"
      ],
      "metadata": {
        "id": "PZS6yP8ofvz5",
        "colab": {
          "base_uri": "https://localhost:8080/"
        },
        "outputId": "8b26200e-7ebc-48b9-eaf4-ee53d7057031"
      },
      "execution_count": 57,
      "outputs": [
        {
          "output_type": "stream",
          "name": "stdout",
          "text": [
            "Shadow dreams that he is in a dark, underground place where a buffalo-headed figure tells him that \"changes are coming\" and that he is \"where the forgotten wait.\" The buffalo man’s eyes are liquid, and he speaks of decisions that must be made, creating an eerie and symbolic vision. The dream ends with the world tipping and Shadow questioning if he might die, before waking on the plane amidst a storm.\n"
          ]
        }
      ]
    },
    {
      "cell_type": "code",
      "source": [
        "ReadBuddy({\"question\": \"What unusual dream does Shadow have on the plane?\"})"
      ],
      "metadata": {
        "colab": {
          "base_uri": "https://localhost:8080/",
          "height": 70
        },
        "id": "oZMJ_6fitGWX",
        "outputId": "fbbab667-b60f-4965-c1a8-7b4373bc4fb2"
      },
      "execution_count": 52,
      "outputs": [
        {
          "output_type": "execute_result",
          "data": {
            "text/plain": [
              "'Shadow dreams that he is in a dark, underground place where a buffalo-headed figure tells him that changes are coming and important decisions must be made. In the dream, the buffalo man says he is \"where the forgotten wait,\" and his eyes are liquid and fiery. The dream then shifts to Shadow back on the plane, experiencing a storm and contemplating death.'"
            ],
            "application/vnd.google.colaboratory.intrinsic+json": {
              "type": "string"
            }
          },
          "metadata": {},
          "execution_count": 52
        }
      ]
    },
    {
      "cell_type": "code",
      "source": [
        "import pandas as pd\n",
        "\n",
        "# Define the question and answer pairs as lists\n",
        "inputs = [\n",
        "    \"What crime was Shadow convicted of, and how long did he serve in prison?\",\n",
        "    \"How did Shadow cope with his time in prison?\",\n",
        "    \"What were the three things Shadow planned to do after getting out of prison?\",\n",
        "    \"Who is Laura, and what was her relationship with Shadow?\",\n",
        "    \"How did Shadow meet Laura?\",\n",
        "    \"Who was Robbie, and what was his connection to Shadow?\",\n",
        "    \"What happened to Laura and Robbie?\",\n",
        "    \"What did Shadow learn about Laura and Robbie’s relationship after their deaths?\",\n",
        "    \"Why was Shadow released from prison early?\",\n",
        "    \"Who is Mr. Wednesday, and how does he approach Shadow?\",\n",
        "    \"What unusual dream does Shadow have on the plane?\",\n",
        "    \"What is the significance of the coin Shadow receives from Mad Sweeney?\",\n",
        "    \"What does the recurring theme of storms symbolize in the early part of the book?\",\n",
        "    \"What does Shadow’s attitude toward belief and superstition reveal about his character?\",\n",
        "    \"Who is Mad Sweeney, and what role does he play when Shadow meets him?\",\n",
        "    \"What is the subplot involving Bilquis in Los Angeles?\",\n",
        "    \"What happens during Shadow’s encounter with the mysterious young man in the limo?\",\n",
        "    \"How does Shadow react to learning about Laura’s betrayal?\",\n",
        "    \"What does Shadow do at Laura’s grave?\"\n",
        "]\n",
        "\n",
        "outputs = [\n",
        "    \"Shadow was convicted of aggravated assault and battery. He was sentenced to six years but served three years in prison before being released early due to his wife's death.\",\n",
        "    \"Shadow kept himself in shape, taught himself coin tricks, and tried to keep a low profile. He also read books, including Herodotus's Histories, and avoided unnecessary trouble.\",\n",
        "    \"Shadow planned to take a long bath, spend time with his wife Laura, and keep his head down to stay out of trouble for the rest of his life.\",\n",
        "    \"Laura was Shadow's wife. They had a close relationship, and Shadow thought about her often while in prison. She worked as a travel agent.\",\n",
        "    \"Shadow met Laura on a blind date arranged by mutual friends-his best buddy's wife's best friend.\",\n",
        "    \"Robbie was Shadow's best friend and owner of the Muscle Farm gym, where Shadow used to work. Robbie promised Shadow a job upon his release from prison.\",\n",
        "    \"Laura and Robbie died together in a car accident just before Shadow was released from prison.\",\n",
        "    \"Shadow learned from Audrey Burton, Robbie’s wife, that Laura and Robbie were having an affair. Laura died with Robbie during the accident, and Audrey told Shadow that Laura died with Robbie’s 'cock in her mouth'.\",\n",
        "    \"Shadow was released early because his wife, Laura, died in a car accident.\",\n",
        "    \"Mr. Wednesday is a mysterious man who meets Shadow on a plane and offers him a job as his bodyguard and errand boy. He seems to know a lot about Shadow and insists that Shadow has nothing left to return to.\",\n",
        "    \"Shadow dreams of a buffalo-headed man who tells him, 'If you are to survive, you must believe,' and urges him to 'believe everything'.\",\n",
        "    \"Mad Sweeney, who claims to be a leprechaun, gives Shadow a gold coin after a bar fight. Shadow later throws this coin into Laura’s grave during her burial.\",\n",
        "    \"The storms foreshadow major changes and turmoil in Shadow’s life, as well as larger conflicts to come. Characters like Sam Fetisher warn Shadow about a 'big storm coming,' both literally and metaphorically.\",\n",
        "    \"Shadow claims not to be superstitious and only believes in what he can see, yet he is repeatedly confronted with strange and supernatural events that challenge his skepticism.\",\n",
        "    \"Mad Sweeney is a tall, bearded man who claims to be a leprechaun. He demonstrates coin tricks, fights Shadow in a bar, and gives him a gold coin.\",\n",
        "    \"Bilquis is a goddess working as a prostitute. She consumes a client during sex after he worships her, demonstrating her supernatural powers and the theme of old gods surviving in modern America.\",\n",
        "    \"Shadow is abducted and threatened by a fat young man in a limo, who warns him that Wednesday is 'history' and that new gods-representing modern concepts like technology-are taking over.\",\n",
        "    \"Shadow is hurt but remains stoic. He refuses to let his pain turn into hatred for Laura, even after learning of her affair with Robbie.\",\n",
        "    \"Shadow throws the gold coin from Mad Sweeney into Laura’s grave and says goodbye, expressing sorrow and closure.\"\n",
        "]\n",
        "\n"
      ],
      "metadata": {
        "id": "bMLONmSpgBSV"
      },
      "execution_count": 48,
      "outputs": []
    },
    {
      "cell_type": "code",
      "source": [
        "from langsmith.evaluation import evaluate, LangChainStringEvaluator\n",
        "\n",
        "# Evaluators\n",
        "qa_evalulator = [LangChainStringEvaluator(\"cot_qa\")]\n",
        "dataset_name = \"DBRX\"\n",
        "\n",
        "experiment_results = evaluate(\n",
        "    ReadBuddy,\n",
        "    data=dataset_name,\n",
        "    evaluators=qa_evalulator,\n",
        "    experiment_prefix=\"test-dbrx-qa-oai\",\n",
        "    # Any experiment metadata can be specified here\n",
        "    metadata={\n",
        "        \"variant\": \"ReadBuddy evaluation\",\n",
        "    },\n",
        ")\n"
      ],
      "metadata": {
        "colab": {
          "base_uri": "https://localhost:8080/",
          "height": 138,
          "referenced_widgets": [
            "8f9492f3641e4ef682153e6b059b15e8",
            "a9433a66794b420d836c02d245b6d8f0",
            "07270fc051d04fd1a5f85c538853b44c",
            "7090846dbcda439ba8d79e3987bd8531",
            "e8eb5c547d1c463f8d53f87497448a17",
            "6b90e4771bee48379d19a5b063a95b22",
            "b379d16fde674eebb4460bc9363ceec8",
            "6ce31a6d8515478f86ed903ea2868615",
            "4f72ceb903104f98ab877f67ac325283",
            "ec026d32db60490aa21e6b45bfebdb1b",
            "d35012a224444bc488c05b8b8a5f060a"
          ]
        },
        "id": "XoxysEtKqUx_",
        "outputId": "fdf0e718-f91a-4006-f9b7-35a9f7be7403"
      },
      "execution_count": 58,
      "outputs": [
        {
          "output_type": "stream",
          "name": "stdout",
          "text": [
            "View the evaluation results for experiment: 'test-dbrx-qa-oai-ce0faff7' at:\n",
            "https://smith.langchain.com/o/e8d53648-3cb8-416b-a448-701e2676ed67/datasets/d61bbe2d-4207-41ca-9eb0-6fff2d3074a9/compare?selectedSessions=1beae159-a407-48fb-8478-5f39fa60fb08\n",
            "\n",
            "\n"
          ]
        },
        {
          "output_type": "display_data",
          "data": {
            "text/plain": [
              "0it [00:00, ?it/s]"
            ],
            "application/vnd.jupyter.widget-view+json": {
              "version_major": 2,
              "version_minor": 0,
              "model_id": "8f9492f3641e4ef682153e6b059b15e8"
            }
          },
          "metadata": {}
        }
      ]
    },
    {
      "cell_type": "code",
      "source": [],
      "metadata": {
        "id": "JFhnlcXRtbVN"
      },
      "execution_count": null,
      "outputs": []
    }
  ]
}